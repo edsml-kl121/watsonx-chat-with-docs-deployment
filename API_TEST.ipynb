{
 "cells": [
  {
   "cell_type": "code",
   "execution_count": 5,
   "id": "75c008e8",
   "metadata": {},
   "outputs": [],
   "source": [
    "from dotenv import load_dotenv\n",
    "import os\n",
    "\n",
    "load_dotenv()\n",
    "WATSONX_API_KEY = os.environ[\"WATSONX_API_KEY\"]\n",
    "WATSONX_SPACE_ID = os.environ[\"WATSONX_SPACE_ID\"]\n",
    "WATSONX_DEPLOYMENT_ID = os.environ[\"WATSONX_DEPLOYMENT_ID\"]"
   ]
  },
  {
   "cell_type": "markdown",
   "id": "a459c6fb",
   "metadata": {},
   "source": [
    "## CALLING METHOD 1 directly"
   ]
  },
  {
   "cell_type": "code",
   "execution_count": 11,
   "id": "9f9b359b",
   "metadata": {},
   "outputs": [
    {
     "name": "stdout",
     "output_type": "stream",
     "text": [
      "Scoring response\n",
      "{'choices': [{'finish_reason': 'stop', 'index': 0, 'message': {'content': 'ตามนโยบายการลาของบริษัท มีการระบุประเภทของการลาที่ได้รับการอนุมัติไว้ดังนี้:\\n\\n1. การลาชั่วคราว\\n2. การลาที่ได้รับ\\n3. การลาคลอด\\n4. การลาพักผ่อนสำหรับบิดา\\n5. การลาโดยไม่ได้รับค่าจ้าง\\n6. วันหยุดชดเชย\\n\\nนอกจากนี้ ยังมีการระบุประเภทของการลาในลักษณะอื่นๆ ดังนี้:\\n\\n- การลาประจำปีที่ได้รับค่าจ้าง\\n- การลาโดยไม่ได้รับค่าจ้าง\\n\\nดังนั้น กรณีทั้งหมดมีการกล่าวถึงการลา 8 ประเภท', 'role': 'assistant'}}], 'created': 1747636374, 'created_at': '2025-05-19T06:32:58.014Z', 'id': 'chatcmpl-7475a0d94200fcc34f394ed1ad9c031d', 'model': 'mistralai/mistral-medium-2505', 'model_id': 'mistralai/mistral-medium-2505', 'model_version': '1.0.0', 'object': 'chat.completion', 'system': {'warnings': [{'id': 'disclaimer_warning', 'message': 'This model is a Non-IBM Product governed by a third-party license that may impose use restrictions and other obligations. By using this model you agree to its terms as identified in the following URL.', 'more_info': 'https://dataplatform.cloud.ibm.com/docs/content/wsj/analyze-data/fm-models.html?context=wx'}]}, 'usage': {'completion_tokens': 185, 'prompt_tokens': 2909, 'total_tokens': 3094}}\n"
     ]
    }
   ],
   "source": [
    "import requests\n",
    "\n",
    "# NOTE: you must manually set API_KEY below using information retrieved from your IBM Cloud account (https://dataplatform.cloud.ibm.com/docs/content/wsj/analyze-data/ml-authentication.html?context=wx)\n",
    "token_response = requests.post('https://iam.cloud.ibm.com/identity/token', data={\"apikey\":\n",
    " WATSONX_API_KEY, \"grant_type\": 'urn:ibm:params:oauth:grant-type:apikey'})\n",
    "mltoken = token_response.json()[\"access_token\"]\n",
    "\n",
    "header = {'Content-Type': 'application/json', 'Authorization': 'Bearer ' + mltoken}\n",
    "\n",
    "\n",
    "payload_scoring = {\n",
    "    \"messages\": [\n",
    "        {\n",
    "            \"role\": \"user\",\n",
    "            \"content\": \"การลามีกี่ประเภท\"\n",
    "        }\n",
    "    ]\n",
    "}\n",
    "\n",
    "response_scoring = requests.post(f'https://us-south.ml.cloud.ibm.com/ml/v4/deployments/{WATSONX_DEPLOYMENT_ID}/ai_service?version=2021-05-01', json=payload_scoring,\n",
    " headers={'Authorization': 'Bearer ' + mltoken})\n",
    "\n",
    "print(\"Scoring response\")\n",
    "try:\n",
    "    print(response_scoring.json())\n",
    "except ValueError:\n",
    "    print(response_scoring.text)\n",
    "except Exception as e:\n",
    "    print(f\"An unexpected error occurred: {e}\")"
   ]
  },
  {
   "cell_type": "code",
   "execution_count": 12,
   "id": "1467ca8b",
   "metadata": {},
   "outputs": [
    {
     "name": "stdout",
     "output_type": "stream",
     "text": [
      "ตามนโยบายการลาของบริษัท มีการระบุประเภทของการลาที่ได้รับการอนุมัติไว้ดังนี้:\n",
      "\n",
      "1. การลาชั่วคราว\n",
      "2. การลาที่ได้รับ\n",
      "3. การลาคลอด\n",
      "4. การลาพักผ่อนสำหรับบิดา\n",
      "5. การลาโดยไม่ได้รับค่าจ้าง\n",
      "6. วันหยุดชดเชย\n",
      "\n",
      "นอกจากนี้ ยังมีการระบุประเภทของการลาในลักษณะอื่นๆ ดังนี้:\n",
      "\n",
      "- การลาประจำปีที่ได้รับค่าจ้าง\n",
      "- การลาโดยไม่ได้รับค่าจ้าง\n",
      "\n",
      "ดังนั้น กรณีทั้งหมดมีการกล่าวถึงการลา 8 ประเภท\n"
     ]
    }
   ],
   "source": [
    "print(response_scoring.json()[\"choices\"][0][\"message\"][\"content\"])"
   ]
  },
  {
   "cell_type": "markdown",
   "id": "fd602864",
   "metadata": {},
   "source": [
    "## CALLING METHOD 2 using SDK"
   ]
  },
  {
   "cell_type": "code",
   "execution_count": 13,
   "id": "fde212fa",
   "metadata": {},
   "outputs": [
    {
     "data": {
      "text/plain": [
       "'SUCCESS'"
      ]
     },
     "execution_count": 13,
     "metadata": {},
     "output_type": "execute_result"
    }
   ],
   "source": [
    "import os\n",
    "from ibm_watsonx_ai import APIClient, Credentials\n",
    "import getpass\n",
    "\n",
    "credentials = Credentials(\n",
    "    url=\"https://us-south.ml.cloud.ibm.com\",\n",
    "    api_key=WATSONX_API_KEY\n",
    ")\n",
    "\n",
    "client = APIClient(credentials)\n",
    "\n",
    "client.set.default_space(WATSONX_SPACE_ID)"
   ]
  },
  {
   "cell_type": "code",
   "execution_count": 17,
   "id": "6e6944fd",
   "metadata": {},
   "outputs": [
    {
     "name": "stdout",
     "output_type": "stream",
     "text": [
      "{'choices': [{'finish_reason': 'stop', 'index': 0, 'message': {'content': 'According to the provided document, leave can be categorized into 7 types. These are:\\n\\n1. Sick leave\\n2. Maternity leave\\n3. Personal leave\\n4. Military service leave\\n5. Leave due to congenital disability\\n6. Training leave\\n7. Ordination leave\\n\\nTherefore, there are 7 types of leave.', 'role': 'assistant'}}], 'created': 1747636515, 'created_at': '2025-05-19T06:35:16.928Z', 'id': 'chatcmpl-b8312831a73f4823a19437483688f8cf', 'model': 'mistralai/mistral-medium-2505', 'model_id': 'mistralai/mistral-medium-2505', 'model_version': '1.0.0', 'object': 'chat.completion', 'system': {'warnings': [{'id': 'disclaimer_warning', 'message': 'This model is a Non-IBM Product governed by a third-party license that may impose use restrictions and other obligations. By using this model you agree to its terms as identified in the following URL.', 'more_info': 'https://dataplatform.cloud.ibm.com/docs/content/wsj/analyze-data/fm-models.html?context=wx'}]}, 'usage': {'completion_tokens': 71, 'prompt_tokens': 1599, 'total_tokens': 1670}}\n"
     ]
    }
   ],
   "source": [
    "# deployment_id\n",
    "# messages = []\n",
    "remote_question = \"วันลามีกี่ประเภท\"\n",
    "# messages = [{\"role\":\"user\",\"content\":\"พนักงานเข้าทำงานกี่โมง\"}]\n",
    "messages = [{ \"role\" : \"user\", \"content\": \"hi\" }, { \"role\" : \"assistant\", \"content\": \"I'm good!\" }, { \"role\" : \"user\", \"content\": remote_question }]\n",
    "payload = { \"messages\": messages }\n",
    "result = client.deployments.run_ai_service(\"2a0b107a-6786-4838-99e2-3db3f3700424\", payload)\n",
    "if \"error\" in result:\n",
    "    print(result[\"error\"])\n",
    "else:\n",
    "    print(result)"
   ]
  },
  {
   "cell_type": "code",
   "execution_count": 18,
   "id": "18fde9d2",
   "metadata": {},
   "outputs": [
    {
     "name": "stdout",
     "output_type": "stream",
     "text": [
      "According to the provided document, leave can be categorized into 7 types. These are:\n",
      "\n",
      "1. Sick leave\n",
      "2. Maternity leave\n",
      "3. Personal leave\n",
      "4. Military service leave\n",
      "5. Leave due to congenital disability\n",
      "6. Training leave\n",
      "7. Ordination leave\n",
      "\n",
      "Therefore, there are 7 types of leave.\n"
     ]
    }
   ],
   "source": [
    "print(result[\"choices\"][0][\"message\"][\"content\"])"
   ]
  },
  {
   "cell_type": "code",
   "execution_count": null,
   "id": "bef4cd60",
   "metadata": {},
   "outputs": [],
   "source": []
  }
 ],
 "metadata": {
  "kernelspec": {
   "display_name": "agentic-be-ex",
   "language": "python",
   "name": "python3"
  },
  "language_info": {
   "codemirror_mode": {
    "name": "ipython",
    "version": 3
   },
   "file_extension": ".py",
   "mimetype": "text/x-python",
   "name": "python",
   "nbconvert_exporter": "python",
   "pygments_lexer": "ipython3",
   "version": "3.11.10"
  }
 },
 "nbformat": 4,
 "nbformat_minor": 5
}
