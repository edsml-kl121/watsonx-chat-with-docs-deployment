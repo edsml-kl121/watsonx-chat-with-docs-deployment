{
 "cells": [
  {
   "cell_type": "code",
   "execution_count": 1,
   "id": "75c008e8",
   "metadata": {},
   "outputs": [],
   "source": [
    "from dotenv import load_dotenv\n",
    "import os\n",
    "\n",
    "load_dotenv()\n",
    "WATSONX_API_KEY = os.environ[\"WATSONX_API_KEY\"]\n",
    "WATSONX_SPACE_ID = os.environ[\"WATSONX_SPACE_ID\"]\n",
    "WATSONX_DEPLOYMENT_ID = os.environ[\"WATSONX_DEPLOYMENT_ID\"]"
   ]
  },
  {
   "cell_type": "markdown",
   "id": "a459c6fb",
   "metadata": {},
   "source": [
    "## CALLING METHOD 1 directly"
   ]
  },
  {
   "cell_type": "code",
   "execution_count": 10,
   "id": "9f9b359b",
   "metadata": {},
   "outputs": [
    {
     "name": "stdout",
     "output_type": "stream",
     "text": [
      "Scoring response\n",
      "{'choices': [{'finish_reason': 'stop', 'index': 0, 'message': {'content': 'จากข้อมูลในนโยบายการลาประจำปีของบริษัท มีการระบุประเภทของการลาที่ได้รับการอนุมัติดังนี้:\\n\\n1. การลาชั่วคราว\\n2. การลาที่ได้รับ (การลาพักร้อนที่ได้รับ)\\n3. การลาคลอด\\n4. การลาพักผ่อนสำหรับบิดา\\n5. การลาโดยไม่ได้รับค่าจ้าง\\n6. วันหยุดชดเชย\\n\\nดังนั้น ประเภทของการลาที่ระบุไว้ในนโยบายมีทั้งหมด 6 ประเภท', 'role': 'assistant'}}], 'created': 1747717323, 'created_at': '2025-05-20T05:02:06.419Z', 'id': 'chatcmpl-54d4ad647a377d5f1c65b78bc42fd1fc', 'model': 'mistralai/mistral-medium-2505', 'model_id': 'mistralai/mistral-medium-2505', 'model_version': '1.0.0', 'object': 'chat.completion', 'system': {'warnings': [{'id': 'disclaimer_warning', 'message': 'This model is a Non-IBM Product governed by a third-party license that may impose use restrictions and other obligations. By using this model you agree to its terms as identified in the following URL.', 'more_info': 'https://dataplatform.cloud.ibm.com/docs/content/wsj/analyze-data/fm-models.html?context=wx'}]}, 'usage': {'completion_tokens': 155, 'prompt_tokens': 2909, 'total_tokens': 3064}}\n"
     ]
    }
   ],
   "source": [
    "import requests\n",
    "\n",
    "# NOTE: you must manually set API_KEY below using information retrieved from your IBM Cloud account (https://dataplatform.cloud.ibm.com/docs/content/wsj/analyze-data/ml-authentication.html?context=wx)\n",
    "token_response = requests.post('https://iam.cloud.ibm.com/identity/token', data={\"apikey\":\n",
    " WATSONX_API_KEY, \"grant_type\": 'urn:ibm:params:oauth:grant-type:apikey'})\n",
    "mltoken = token_response.json()[\"access_token\"]\n",
    "\n",
    "header = {'Content-Type': 'application/json', 'Authorization': 'Bearer ' + mltoken}\n",
    "\n",
    "\n",
    "payload_scoring = {\n",
    "    \"messages\": [\n",
    "        {\n",
    "            \"role\": \"user\",\n",
    "            \"content\": \"การลามีกี่ประเภท\"\n",
    "        }\n",
    "    ]\n",
    "}\n",
    "\n",
    "response_scoring = requests.post(f'https://us-south.ml.cloud.ibm.com/ml/v4/deployments/{WATSONX_DEPLOYMENT_ID}/ai_service?version=2021-05-01', json=payload_scoring,\n",
    " headers={'Authorization': 'Bearer ' + mltoken})\n",
    "\n",
    "print(\"Scoring response\")\n",
    "try:\n",
    "    print(response_scoring.json())\n",
    "except ValueError:\n",
    "    print(response_scoring.text)\n",
    "except Exception as e:\n",
    "    print(f\"An unexpected error occurred: {e}\")"
   ]
  },
  {
   "cell_type": "code",
   "execution_count": 11,
   "id": "1467ca8b",
   "metadata": {},
   "outputs": [
    {
     "name": "stdout",
     "output_type": "stream",
     "text": [
      "จากข้อมูลในนโยบายการลาประจำปีของบริษัท มีการระบุประเภทของการลาที่ได้รับการอนุมัติดังนี้:\n",
      "\n",
      "1. การลาชั่วคราว\n",
      "2. การลาที่ได้รับ (การลาพักร้อนที่ได้รับ)\n",
      "3. การลาคลอด\n",
      "4. การลาพักผ่อนสำหรับบิดา\n",
      "5. การลาโดยไม่ได้รับค่าจ้าง\n",
      "6. วันหยุดชดเชย\n",
      "\n",
      "ดังนั้น ประเภทของการลาที่ระบุไว้ในนโยบายมีทั้งหมด 6 ประเภท\n"
     ]
    }
   ],
   "source": [
    "print(response_scoring.json()[\"choices\"][0][\"message\"][\"content\"])"
   ]
  },
  {
   "cell_type": "markdown",
   "id": "fd602864",
   "metadata": {},
   "source": [
    "## CALLING METHOD 2 using SDK"
   ]
  },
  {
   "cell_type": "code",
   "execution_count": 13,
   "id": "fde212fa",
   "metadata": {},
   "outputs": [
    {
     "data": {
      "text/plain": [
       "'SUCCESS'"
      ]
     },
     "execution_count": 13,
     "metadata": {},
     "output_type": "execute_result"
    }
   ],
   "source": [
    "import os\n",
    "from ibm_watsonx_ai import APIClient, Credentials\n",
    "import getpass\n",
    "\n",
    "credentials = Credentials(\n",
    "    url=\"https://us-south.ml.cloud.ibm.com\",\n",
    "    api_key=WATSONX_API_KEY\n",
    ")\n",
    "\n",
    "client = APIClient(credentials)\n",
    "\n",
    "client.set.default_space(WATSONX_SPACE_ID)"
   ]
  },
  {
   "cell_type": "code",
   "execution_count": 17,
   "id": "6e6944fd",
   "metadata": {},
   "outputs": [
    {
     "name": "stdout",
     "output_type": "stream",
     "text": [
      "{'choices': [{'finish_reason': 'stop', 'index': 0, 'message': {'content': 'จากการสนทนา ผมได้ชื่อของคุณว่า มิวครับ', 'role': 'assistant'}}], 'created': 1747717520, 'created_at': '2025-05-20T05:05:20.849Z', 'id': 'chatcmpl-c5e3d1dc0d2c86ed78f0263b59fdcc62', 'model': 'mistralai/mistral-medium-2505', 'model_id': 'mistralai/mistral-medium-2505', 'model_version': '1.0.0', 'object': 'chat.completion', 'system': {'warnings': [{'id': 'disclaimer_warning', 'message': 'This model is a Non-IBM Product governed by a third-party license that may impose use restrictions and other obligations. By using this model you agree to its terms as identified in the following URL.', 'more_info': 'https://dataplatform.cloud.ibm.com/docs/content/wsj/analyze-data/fm-models.html?context=wx'}]}, 'usage': {'completion_tokens': 19, 'prompt_tokens': 2932, 'total_tokens': 2951}}\n"
     ]
    }
   ],
   "source": [
    "# deployment_id\n",
    "# messages = []\n",
    "remote_question = \"ผมชื่อว่าอะไรครับ\"\n",
    "# messages = [{\"role\":\"user\",\"content\":\"พนักงานเข้าทำงานกี่โมง\"}]\n",
    "messages = [{ \"role\" : \"user\", \"content\": \"สวัสดีครับ ผมชื่อมิว\" }, { \"role\" : \"assistant\", \"content\": \"สวัสดีครับ มิวต้องการให้ผมช่วยอะไรครับ ผมคือผู้ช่วยพนักงาน\" }, { \"role\" : \"user\", \"content\": remote_question }]\n",
    "payload = { \"messages\": messages }\n",
    "result = client.deployments.run_ai_service(WATSONX_DEPLOYMENT_ID, payload)\n",
    "if \"error\" in result:\n",
    "    print(result[\"error\"])\n",
    "else:\n",
    "    print(result)"
   ]
  },
  {
   "cell_type": "code",
   "execution_count": 18,
   "id": "18fde9d2",
   "metadata": {},
   "outputs": [
    {
     "name": "stdout",
     "output_type": "stream",
     "text": [
      "จากการสนทนา ผมได้ชื่อของคุณว่า มิวครับ\n"
     ]
    }
   ],
   "source": [
    "print(result[\"choices\"][0][\"message\"][\"content\"])"
   ]
  },
  {
   "cell_type": "code",
   "execution_count": null,
   "id": "bef4cd60",
   "metadata": {},
   "outputs": [],
   "source": []
  }
 ],
 "metadata": {
  "kernelspec": {
   "display_name": "agentic-be-ex",
   "language": "python",
   "name": "python3"
  },
  "language_info": {
   "codemirror_mode": {
    "name": "ipython",
    "version": 3
   },
   "file_extension": ".py",
   "mimetype": "text/x-python",
   "name": "python",
   "nbconvert_exporter": "python",
   "pygments_lexer": "ipython3",
   "version": "3.11.10"
  }
 },
 "nbformat": 4,
 "nbformat_minor": 5
}
